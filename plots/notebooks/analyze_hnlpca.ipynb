{
 "cells": [
  {
   "cell_type": "code",
   "execution_count": 1,
   "metadata": {},
   "outputs": [
    {
     "data": {
      "application/javascript": [
       "IPython.OutputArea.prototype._should_scroll = function(lines) {\n",
       "   return false;\n",
       "}\n"
      ],
      "text/plain": [
       "<IPython.core.display.Javascript object>"
      ]
     },
     "metadata": {},
     "output_type": "display_data"
    }
   ],
   "source": [
    "%%javascript\n",
    "IPython.OutputArea.prototype._should_scroll = function(lines) {\n",
    "   return false;\n",
    "}"
   ]
  },
  {
   "cell_type": "code",
   "execution_count": 2,
   "metadata": {},
   "outputs": [],
   "source": [
    "%matplotlib inline\n",
    "\n",
    "import os\n",
    "from pathlib import Path\n",
    "\n",
    "import numpy as np\n",
    "import pandas as pd\n",
    "import seaborn as sns\n",
    "import matplotlib\n",
    "matplotlib.rcParams['figure.figsize'] = (20, 10)\n",
    "import matplotlib.pyplot as plt\n",
    "\n",
    "from scripts.load_aggregated_results import PLOT_DIR, DIS_METRICS, HUMAN_READABLE_NAMES, get_metric_df"
   ]
  },
  {
   "cell_type": "code",
   "execution_count": 3,
   "metadata": {},
   "outputs": [
    {
     "name": "stdout",
     "output_type": "stream",
     "text": [
      "workbook_dir: /home/alek/PycharmProjects/disentanglement_lib/plots/notebooks\n",
      "current dir: /home/alek/PycharmProjects/disentanglement_lib\n"
     ]
    }
   ],
   "source": [
    "if not 'workbook_dir' in globals():\n",
    "    workbook_dir = os.getcwd()\n",
    "    os.chdir(Path(workbook_dir).parent.parent)\n",
    "print('workbook_dir: ' + workbook_dir)\n",
    "print('current dir: ' + os.getcwd())"
   ]
  },
  {
   "cell_type": "code",
   "execution_count": 8,
   "metadata": {},
   "outputs": [],
   "source": [
    "df = pd.read_pickle(PLOT_DIR / 'hnlpca_results.pickle')"
   ]
  },
  {
   "cell_type": "code",
   "execution_count": 9,
   "metadata": {},
   "outputs": [
    {
     "data": {
      "text/plain": [
       "train_config.dataset.name  group_id                 \n",
       "'cars3d'                   hnlpca                       300\n",
       "                           hnlpca_balanced              300\n",
       "'color_dsprites'           hnlpca                       300\n",
       "                           hnlpca_balanced              300\n",
       "                           hnlpca_balanced_intrinsic    462\n",
       "                           hnlpca_intrinsic             529\n",
       "'dsprites_full'            hnlpca                       300\n",
       "                           hnlpca_balanced              300\n",
       "'noisy_dsprites'           hnlpca                       300\n",
       "                           hnlpca_balanced              300\n",
       "'scream_dsprites'          hnlpca                       300\n",
       "                           hnlpca_balanced              300\n",
       "                           hnlpca_balanced_intrinsic    498\n",
       "                           hnlpca_intrinsic             414\n",
       "'shapes3d'                 hnlpca                       300\n",
       "                           hnlpca_balanced              300\n",
       "'smallnorb'                hnlpca                       300\n",
       "                           hnlpca_balanced              300\n",
       "                           hnlpca_balanced_intrinsic    300\n",
       "                           hnlpca_intrinsic             300\n",
       "dtype: int64"
      ]
     },
     "execution_count": 9,
     "metadata": {},
     "output_type": "execute_result"
    }
   ],
   "source": [
    "df.loc[df['group_id'].str.contains('hnlpca')].groupby(['train_config.dataset.name', 'group_id']).size()"
   ]
  },
  {
   "cell_type": "code",
   "execution_count": 10,
   "metadata": {},
   "outputs": [
    {
     "name": "stdout",
     "output_type": "stream",
     "text": [
      "74482\n",
      "76882\n"
     ]
    }
   ],
   "source": [
    "print(len(df))\n",
    "intrinsic_datasets = (\n",
    "    'color_dsprites', \n",
    "    'scream_dsprites', \n",
    "    'smallnorb',\n",
    ")\n",
    "for dataset in df['train_config.dataset.name'].unique():\n",
    "    if dataset.replace(\"'\", '') in intrinsic_datasets:\n",
    "        continue\n",
    "    \n",
    "    for group_id in (\n",
    "        'hnlpca',\n",
    "        'hnlpca_balanced',\n",
    "    ):\n",
    "        new_rows = df.loc[\n",
    "            (df['train_config.dataset.name'] == dataset) &\n",
    "            (df['group_id'] == group_id)\n",
    "        ].copy()\n",
    "        new_rows['group_id'] += '_intrinsic'\n",
    "        \n",
    "        df = pd.concat([df, new_rows])\n",
    "        \n",
    "print(len(df))"
   ]
  },
  {
   "cell_type": "code",
   "execution_count": 11,
   "metadata": {},
   "outputs": [],
   "source": [
    "df_contribs = pd.read_csv(PLOT_DIR / 'contribs_full_color_dims.csv')"
   ]
  },
  {
   "cell_type": "code",
   "execution_count": 12,
   "metadata": {},
   "outputs": [],
   "source": [
    "contribs_col_names = (\n",
    "    'diffs',\n",
    "    'diffs_all',\n",
    "    'variances',\n",
    "    'variances_all',\n",
    ")\n",
    "for col_name in contribs_col_names:\n",
    "    df_contribs[f'std_{col_name}'] = df_contribs.apply(\n",
    "        lambda row: np.fromstring(row[col_name].replace('[', '').replace(']', ''), sep=' ').std(),\n",
    "        axis=1,\n",
    "    )"
   ]
  },
  {
   "cell_type": "code",
   "execution_count": 13,
   "metadata": {},
   "outputs": [
    {
     "data": {
      "text/html": [
       "<div>\n",
       "<style scoped>\n",
       "    .dataframe tbody tr th:only-of-type {\n",
       "        vertical-align: middle;\n",
       "    }\n",
       "\n",
       "    .dataframe tbody tr th {\n",
       "        vertical-align: top;\n",
       "    }\n",
       "\n",
       "    .dataframe thead th {\n",
       "        text-align: right;\n",
       "    }\n",
       "</style>\n",
       "<table border=\"1\" class=\"dataframe\">\n",
       "  <thead>\n",
       "    <tr style=\"text-align: right;\">\n",
       "      <th></th>\n",
       "      <th>dataset</th>\n",
       "      <th>diffs</th>\n",
       "      <th>diffs_all</th>\n",
       "      <th>variances</th>\n",
       "      <th>variances_all</th>\n",
       "      <th>std_diffs</th>\n",
       "      <th>std_diffs_all</th>\n",
       "      <th>std_variances</th>\n",
       "      <th>std_variances_all</th>\n",
       "    </tr>\n",
       "  </thead>\n",
       "  <tbody>\n",
       "    <tr>\n",
       "      <th>0</th>\n",
       "      <td>dsprites_full</td>\n",
       "      <td>[0.7924798  0.39387174 0.21410312 0.2921085  0...</td>\n",
       "      <td>[0.7924798  0.39387174 0.21410312 0.2921085  0...</td>\n",
       "      <td>[0.17043662 0.25081086 0.19187606 0.65940063 0...</td>\n",
       "      <td>[0.17043662 0.25081086 0.19187606 0.65940063 0...</td>\n",
       "      <td>0.205789</td>\n",
       "      <td>0.205789</td>\n",
       "      <td>0.224762</td>\n",
       "      <td>0.224762</td>\n",
       "    </tr>\n",
       "    <tr>\n",
       "      <th>1</th>\n",
       "      <td>color_dsprites</td>\n",
       "      <td>[0.00235421 0.79537514 0.38898202 0.21534056 0...</td>\n",
       "      <td>[0.79537514 0.38898202 0.21534056 0.29109406 0...</td>\n",
       "      <td>[0.01270697 0.17085869 0.2474353  0.19183103 0...</td>\n",
       "      <td>[0.17085869 0.2474353  0.19183103 0.65982999 0...</td>\n",
       "      <td>0.251329</td>\n",
       "      <td>0.206940</td>\n",
       "      <td>0.253806</td>\n",
       "      <td>0.225298</td>\n",
       "    </tr>\n",
       "    <tr>\n",
       "      <th>2</th>\n",
       "      <td>noisy_dsprites</td>\n",
       "      <td>[0.45468359 0.44726903 0.44370918 0.44515441 0...</td>\n",
       "      <td>[0.45468359 0.44726903 0.44370918 0.44515441 0...</td>\n",
       "      <td>[0.3264995  0.41041964 0.47402903 0.50014432 0...</td>\n",
       "      <td>[0.3264995  0.41041964 0.47402903 0.50014432 0...</td>\n",
       "      <td>0.003912</td>\n",
       "      <td>0.003912</td>\n",
       "      <td>0.066514</td>\n",
       "      <td>0.066514</td>\n",
       "    </tr>\n",
       "    <tr>\n",
       "      <th>3</th>\n",
       "      <td>scream_dsprites</td>\n",
       "      <td>[0.18869556 0.75053798 0.36957635 0.20349626 0...</td>\n",
       "      <td>[0.75053798 0.36957635 0.20349626 0.2734802  0...</td>\n",
       "      <td>[0.51058025 0.08076045 0.11782191 0.0907688  0...</td>\n",
       "      <td>[0.08076045 0.11782191 0.0907688  0.30916492 0...</td>\n",
       "      <td>0.178640</td>\n",
       "      <td>0.195067</td>\n",
       "      <td>0.179590</td>\n",
       "      <td>0.104170</td>\n",
       "    </tr>\n",
       "    <tr>\n",
       "      <th>4</th>\n",
       "      <td>smallnorb</td>\n",
       "      <td>[0.16428326 0.10688019 0.01381377 0.08923717 0...</td>\n",
       "      <td>[0.16428326 0.01381377 0.08923717 0.97643922]</td>\n",
       "      <td>[0.20355376 0.14946828 0.0752942  0.19641723 0...</td>\n",
       "      <td>[0.20355376 0.0752942  0.19641723 0.94444489]</td>\n",
       "      <td>0.356412</td>\n",
       "      <td>0.387890</td>\n",
       "      <td>0.318602</td>\n",
       "      <td>0.344153</td>\n",
       "    </tr>\n",
       "    <tr>\n",
       "      <th>5</th>\n",
       "      <td>cars3d</td>\n",
       "      <td>[0.29775715 0.43609607 0.84921193]</td>\n",
       "      <td>[0.29775715 0.43609607 0.84921193]</td>\n",
       "      <td>[0.28291616 0.67647422 0.67995668]</td>\n",
       "      <td>[0.28291616 0.67647422 0.67995668]</td>\n",
       "      <td>0.234261</td>\n",
       "      <td>0.234261</td>\n",
       "      <td>0.186351</td>\n",
       "      <td>0.186351</td>\n",
       "    </tr>\n",
       "    <tr>\n",
       "      <th>6</th>\n",
       "      <td>shapes3d</td>\n",
       "      <td>[0.62664961 0.63682507 0.2368502  0.11894065 0...</td>\n",
       "      <td>[0.62664961 0.63682507 0.2368502  0.11894065 0...</td>\n",
       "      <td>[0.66320729 0.68394356 0.2535421  0.10878403 0...</td>\n",
       "      <td>[0.66320729 0.68394356 0.2535421  0.10878403 0...</td>\n",
       "      <td>0.229537</td>\n",
       "      <td>0.229537</td>\n",
       "      <td>0.260322</td>\n",
       "      <td>0.260322</td>\n",
       "    </tr>\n",
       "  </tbody>\n",
       "</table>\n",
       "</div>"
      ],
      "text/plain": [
       "           dataset                                              diffs                                          diffs_all                                          variances                                      variances_all  std_diffs  std_diffs_all  std_variances  std_variances_all\n",
       "0    dsprites_full  [0.7924798  0.39387174 0.21410312 0.2921085  0...  [0.7924798  0.39387174 0.21410312 0.2921085  0...  [0.17043662 0.25081086 0.19187606 0.65940063 0...  [0.17043662 0.25081086 0.19187606 0.65940063 0...   0.205789       0.205789       0.224762           0.224762\n",
       "1   color_dsprites  [0.00235421 0.79537514 0.38898202 0.21534056 0...  [0.79537514 0.38898202 0.21534056 0.29109406 0...  [0.01270697 0.17085869 0.2474353  0.19183103 0...  [0.17085869 0.2474353  0.19183103 0.65982999 0...   0.251329       0.206940       0.253806           0.225298\n",
       "2   noisy_dsprites  [0.45468359 0.44726903 0.44370918 0.44515441 0...  [0.45468359 0.44726903 0.44370918 0.44515441 0...  [0.3264995  0.41041964 0.47402903 0.50014432 0...  [0.3264995  0.41041964 0.47402903 0.50014432 0...   0.003912       0.003912       0.066514           0.066514\n",
       "3  scream_dsprites  [0.18869556 0.75053798 0.36957635 0.20349626 0...  [0.75053798 0.36957635 0.20349626 0.2734802  0...  [0.51058025 0.08076045 0.11782191 0.0907688  0...  [0.08076045 0.11782191 0.0907688  0.30916492 0...   0.178640       0.195067       0.179590           0.104170\n",
       "4        smallnorb  [0.16428326 0.10688019 0.01381377 0.08923717 0...      [0.16428326 0.01381377 0.08923717 0.97643922]  [0.20355376 0.14946828 0.0752942  0.19641723 0...      [0.20355376 0.0752942  0.19641723 0.94444489]   0.356412       0.387890       0.318602           0.344153\n",
       "5           cars3d                 [0.29775715 0.43609607 0.84921193]                 [0.29775715 0.43609607 0.84921193]                 [0.28291616 0.67647422 0.67995668]                 [0.28291616 0.67647422 0.67995668]   0.234261       0.234261       0.186351           0.186351\n",
       "6         shapes3d  [0.62664961 0.63682507 0.2368502  0.11894065 0...  [0.62664961 0.63682507 0.2368502  0.11894065 0...  [0.66320729 0.68394356 0.2535421  0.10878403 0...  [0.66320729 0.68394356 0.2535421  0.10878403 0...   0.229537       0.229537       0.260322           0.260322"
      ]
     },
     "execution_count": 13,
     "metadata": {},
     "output_type": "execute_result"
    }
   ],
   "source": [
    "df_contribs"
   ]
  },
  {
   "cell_type": "code",
   "execution_count": 14,
   "metadata": {
    "pycharm": {
     "is_executing": true
    }
   },
   "outputs": [],
   "source": [
    "for col_name in contribs_col_names:\n",
    "    df[f'dataset_std_{col_name}'] = df.apply(\n",
    "        lambda row: float(\n",
    "            df_contribs.loc[df_contribs['dataset'] == row['train_config.dataset.name'].replace(\"'\", '')][f'std_{col_name}']\n",
    "        ),\n",
    "        axis=1,\n",
    "    )\n",
    "    \n",
    "df_ = df.copy()"
   ]
  },
  {
   "cell_type": "code",
   "execution_count": 15,
   "metadata": {
    "pycharm": {
     "is_executing": true
    }
   },
   "outputs": [
    {
     "data": {
      "text/plain": [
       "array(['annealed_10.0', 'annealed_100.0', 'annealed_25.0', 'annealed_5.0',\n",
       "       'annealed_50.0', 'annealed_75.0', 'beta_vae_1.0', 'beta_vae_16.0',\n",
       "       'beta_vae_2.0', 'beta_vae_4.0', 'beta_vae_6.0', 'beta_vae_8.0',\n",
       "       'hnlpca', 'hnlpca_balanced', 'hnlpca_balanced_intrinsic',\n",
       "       'hnlpca_intrinsic'], dtype=object)"
      ]
     },
     "execution_count": 15,
     "metadata": {},
     "output_type": "execute_result"
    }
   ],
   "source": [
    "df['group_id'].unique()"
   ]
  },
  {
   "cell_type": "code",
   "execution_count": 16,
   "metadata": {
    "pycharm": {
     "is_executing": true
    }
   },
   "outputs": [],
   "source": [
    "def get_corrs(group_id, contribs_col_name='dataset_std_variances_all'):\n",
    "    df = df_.copy()\n",
    "    df = df.loc[df['group_id'] == group_id]\n",
    "    \n",
    "    corrs = {}\n",
    "    for metric in DIS_METRICS:\n",
    "        df_metric, metric_col_name = get_metric_df(df, metric)\n",
    "        corrs[HUMAN_READABLE_NAMES[metric]] = df_metric[\n",
    "            [metric_col_name, contribs_col_name]].corr()[metric_col_name][contribs_col_name]\n",
    "        \n",
    "    return corrs\n",
    "    "
   ]
  },
  {
   "cell_type": "code",
   "execution_count": 17,
   "metadata": {
    "pycharm": {
     "is_executing": true
    }
   },
   "outputs": [
    {
     "name": "stdout",
     "output_type": "stream",
     "text": [
      "annealed_10.0\n",
      "{'FactorVAE Score': 0.25556363548697225, 'MIG': 0.6123562784839821, 'DCI Disentanglement': 0.500044534181542, 'Modularity': 0.5798047041254996, 'SAP Score': 0.808036440243549}\n",
      "annealed_100.0\n",
      "{'FactorVAE Score': 0.25825779966041984, 'MIG': 0.2716517653607151, 'DCI Disentanglement': 0.5673388152298003, 'Modularity': 0.5415140705112682, 'SAP Score': 0.4642929670584847}\n",
      "annealed_25.0\n",
      "{'FactorVAE Score': 0.36825198526676817, 'MIG': 0.48865023492501625, 'DCI Disentanglement': 0.4501125272740581, 'Modularity': 0.5259230425555103, 'SAP Score': 0.7822190908274064}\n",
      "annealed_5.0\n",
      "{'FactorVAE Score': 0.22395795697818427, 'MIG': 0.5945026800290537, 'DCI Disentanglement': 0.4694005790831427, 'Modularity': 0.5892583837279302, 'SAP Score': 0.7717693345154873}\n",
      "annealed_50.0\n",
      "{'FactorVAE Score': 0.30722551930950825, 'MIG': 0.4427720030741568, 'DCI Disentanglement': 0.5521638503004623, 'Modularity': 0.5136856680449066, 'SAP Score': 0.6121705627517826}\n",
      "annealed_75.0\n",
      "{'FactorVAE Score': 0.2691693140313501, 'MIG': 0.3615660822560666, 'DCI Disentanglement': 0.5311645764572491, 'Modularity': 0.5475750233257329, 'SAP Score': 0.5492788806298359}\n",
      "beta_vae_1.0\n",
      "{'FactorVAE Score': 0.445276162540657, 'MIG': 0.7871836550255739, 'DCI Disentanglement': 0.8935262245323108, 'Modularity': 0.49387245700288085, 'SAP Score': 0.7886292836364337}\n",
      "beta_vae_16.0\n",
      "{'FactorVAE Score': 0.09511253648336401, 'MIG': 0.484642937137918, 'DCI Disentanglement': 0.3221921241062579, 'Modularity': 0.4136757610141859, 'SAP Score': 0.7795179793432909}\n",
      "beta_vae_2.0\n",
      "{'FactorVAE Score': 0.31148229282090667, 'MIG': 0.7692819259466143, 'DCI Disentanglement': 0.7986116129994645, 'Modularity': 0.6839800945378236, 'SAP Score': 0.8093708296559159}\n",
      "beta_vae_4.0\n",
      "{'FactorVAE Score': 0.15910739913448424, 'MIG': 0.6131239913034199, 'DCI Disentanglement': 0.5006268480865096, 'Modularity': 0.6234606539263217, 'SAP Score': 0.7615645122031831}\n",
      "beta_vae_6.0\n",
      "{'FactorVAE Score': -0.05988905525103533, 'MIG': 0.5279975271284227, 'DCI Disentanglement': 0.40406014821395325, 'Modularity': 0.5294228481817106, 'SAP Score': 0.7443697586214588}\n",
      "beta_vae_8.0\n",
      "{'FactorVAE Score': -0.07222217316489578, 'MIG': 0.5044878872229563, 'DCI Disentanglement': 0.3245714923787977, 'Modularity': 0.5353859635877426, 'SAP Score': 0.7351044049548915}\n",
      "hnlpca\n",
      "{'FactorVAE Score': 0.4324661264353662, 'MIG': 0.4189099394111543, 'DCI Disentanglement': 0.5185513344735816, 'Modularity': 0.710134229063909, 'SAP Score': 0.7826546927662829}\n",
      "hnlpca_balanced\n",
      "{'FactorVAE Score': 0.33712808448414844, 'MIG': 0.4880187029330722, 'DCI Disentanglement': 0.5291062001578128, 'Modularity': 0.549850197123021, 'SAP Score': 0.7593695534306906}\n",
      "hnlpca_balanced_intrinsic\n",
      "{'FactorVAE Score': 0.41851141208795256, 'MIG': 0.5231863396669063, 'DCI Disentanglement': 0.5747580265377015, 'Modularity': 0.5935167132551009, 'SAP Score': 0.7700988769930688}\n",
      "hnlpca_intrinsic\n",
      "{'FactorVAE Score': 0.44547627767564396, 'MIG': 0.43043001665423025, 'DCI Disentanglement': 0.5500757832671727, 'Modularity': 0.7279178107308263, 'SAP Score': 0.7668983275955886}\n"
     ]
    }
   ],
   "source": [
    "for group_id in df_['group_id'].unique():\n",
    "    print(group_id)\n",
    "    print(get_corrs(group_id))"
   ]
  },
  {
   "cell_type": "code",
   "execution_count": 21,
   "metadata": {
    "pycharm": {
     "is_executing": true
    }
   },
   "outputs": [
    {
     "data": {
      "text/html": [
       "<div>\n",
       "<style scoped>\n",
       "    .dataframe tbody tr th:only-of-type {\n",
       "        vertical-align: middle;\n",
       "    }\n",
       "\n",
       "    .dataframe tbody tr th {\n",
       "        vertical-align: top;\n",
       "    }\n",
       "\n",
       "    .dataframe thead th {\n",
       "        text-align: right;\n",
       "    }\n",
       "</style>\n",
       "<table border=\"1\" class=\"dataframe\">\n",
       "  <thead>\n",
       "    <tr style=\"text-align: right;\">\n",
       "      <th></th>\n",
       "      <th>FactorVAE Score</th>\n",
       "      <th>MIG</th>\n",
       "      <th>DCI Disentanglement</th>\n",
       "      <th>Modularity</th>\n",
       "      <th>SAP Score</th>\n",
       "      <th>beta</th>\n",
       "    </tr>\n",
       "  </thead>\n",
       "  <tbody>\n",
       "    <tr>\n",
       "      <th>0</th>\n",
       "      <td>0.445276</td>\n",
       "      <td>0.787184</td>\n",
       "      <td>0.893526</td>\n",
       "      <td>0.493872</td>\n",
       "      <td>0.788629</td>\n",
       "      <td>1.0</td>\n",
       "    </tr>\n",
       "    <tr>\n",
       "      <th>1</th>\n",
       "      <td>0.095113</td>\n",
       "      <td>0.484643</td>\n",
       "      <td>0.322192</td>\n",
       "      <td>0.413676</td>\n",
       "      <td>0.779518</td>\n",
       "      <td>16.0</td>\n",
       "    </tr>\n",
       "    <tr>\n",
       "      <th>2</th>\n",
       "      <td>0.311482</td>\n",
       "      <td>0.769282</td>\n",
       "      <td>0.798612</td>\n",
       "      <td>0.683980</td>\n",
       "      <td>0.809371</td>\n",
       "      <td>2.0</td>\n",
       "    </tr>\n",
       "    <tr>\n",
       "      <th>3</th>\n",
       "      <td>0.159107</td>\n",
       "      <td>0.613124</td>\n",
       "      <td>0.500627</td>\n",
       "      <td>0.623461</td>\n",
       "      <td>0.761565</td>\n",
       "      <td>4.0</td>\n",
       "    </tr>\n",
       "    <tr>\n",
       "      <th>4</th>\n",
       "      <td>-0.059889</td>\n",
       "      <td>0.527998</td>\n",
       "      <td>0.404060</td>\n",
       "      <td>0.529423</td>\n",
       "      <td>0.744370</td>\n",
       "      <td>6.0</td>\n",
       "    </tr>\n",
       "    <tr>\n",
       "      <th>5</th>\n",
       "      <td>-0.072222</td>\n",
       "      <td>0.504488</td>\n",
       "      <td>0.324571</td>\n",
       "      <td>0.535386</td>\n",
       "      <td>0.735104</td>\n",
       "      <td>8.0</td>\n",
       "    </tr>\n",
       "  </tbody>\n",
       "</table>\n",
       "</div>"
      ],
      "text/plain": [
       "   FactorVAE Score       MIG  DCI Disentanglement  Modularity  SAP Score  beta\n",
       "0         0.445276  0.787184             0.893526    0.493872   0.788629   1.0\n",
       "1         0.095113  0.484643             0.322192    0.413676   0.779518  16.0\n",
       "2         0.311482  0.769282             0.798612    0.683980   0.809371   2.0\n",
       "3         0.159107  0.613124             0.500627    0.623461   0.761565   4.0\n",
       "4        -0.059889  0.527998             0.404060    0.529423   0.744370   6.0\n",
       "5        -0.072222  0.504488             0.324571    0.535386   0.735104   8.0"
      ]
     },
     "execution_count": 21,
     "metadata": {},
     "output_type": "execute_result"
    }
   ],
   "source": [
    "beta_vae_corrs = []\n",
    "for group_id in df_['group_id'].unique():\n",
    "    if 'beta_vae' in group_id:\n",
    "        corrs = get_corrs(group_id)\n",
    "        corrs['beta'] = float(group_id.split('_')[-1])\n",
    "        beta_vae_corrs.append(corrs)\n",
    "\n",
    "beta_vae_corrs = pd.DataFrame(beta_vae_corrs)\n",
    "beta_vae_corrs"
   ]
  },
  {
   "cell_type": "code",
   "execution_count": 25,
   "metadata": {},
   "outputs": [
    {
     "data": {
      "image/png": "[encoded data removed]",
      "text/plain": [
       "<Figure size 720x360 with 1 Axes>"
      ]
     },
     "metadata": {
      "needs_background": "light"
     },
     "output_type": "display_data"
    },
    {
     "data": {
      "image/png": "[encoded data removed]",
      "text/plain": [
       "<Figure size 720x360 with 1 Axes>"
      ]
     },
     "metadata": {
      "needs_background": "light"
     },
     "output_type": "display_data"
    },
    {
     "data": {
      "image/png": "[encoded data removed]",
      "text/plain": [
       "<Figure size 720x360 with 1 Axes>"
      ]
     },
     "metadata": {
      "needs_background": "light"
     },
     "output_type": "display_data"
    },
    {
     "data": {
      "image/png": "[encoded data removed]",
      "text/plain": [
       "<Figure size 720x360 with 1 Axes>"
      ]
     },
     "metadata": {
      "needs_background": "light"
     },
     "output_type": "display_data"
    },
    {
     "data": {
      "image/png": "[encoded data removed]",
      "text/plain": [
       "<Figure size 720x360 with 1 Axes>"
      ]
     },
     "metadata": {
      "needs_background": "light"
     },
     "output_type": "display_data"
    }
   ],
   "source": [
    "matplotlib.rcParams['figure.figsize'] = (10, 5)\n",
    "\n",
    "for metric in DIS_METRICS:\n",
    "    sns.lineplot(\n",
    "        data=beta_vae_corrs,\n",
    "        x='beta',\n",
    "        y=HUMAN_READABLE_NAMES[metric],\n",
    "    )\n",
    "    plt.show()"
   ]
  },
  {
   "cell_type": "code",
   "execution_count": null,
   "metadata": {
    "pycharm": {
     "is_executing": true
    }
   },
   "outputs": [],
   "source": [
    "def plot_violin(group_id, contribs_col_name='dataset_std_variances_all'):\n",
    "    df = df_.copy()\n",
    "    df = df.loc[df['group_id'] == group_id]\n",
    "    \n",
    "    for metric in DIS_METRICS:\n",
    "        df_metric, metric_col_name = get_metric_df(df, metric)\n",
    "        sns.violinplot(\n",
    "            data=df_metric,\n",
    "            x=contribs_col_name,\n",
    "            y=metric_col_name,\n",
    "            hue='train_config.dataset.name',\n",
    "        )\n",
    "        plt.show()\n",
    "        "
   ]
  },
  {
   "cell_type": "code",
   "execution_count": null,
   "metadata": {
    "pycharm": {
     "is_executing": true
    }
   },
   "outputs": [],
   "source": [
    "plot_violin('beta_vae_1.0')"
   ]
  },
  {
   "cell_type": "code",
   "execution_count": null,
   "metadata": {
    "pycharm": {
     "is_executing": true
    }
   },
   "outputs": [],
   "source": [
    "plot_violin('hnlpca', 'dataset_std_variances_all')"
   ]
  }
 ],
 "metadata": {
  "kernelspec": {
   "display_name": "Python 3",
   "language": "python",
   "name": "python3"
  },
  "language_info": {
   "codemirror_mode": {
    "name": "ipython",
    "version": 3
   },
   "file_extension": ".py",
   "mimetype": "text/x-python",
   "name": "python",
   "nbconvert_exporter": "python",
   "pygments_lexer": "ipython3",
   "version": "3.7.5"
  }
 },
 "nbformat": 4,
 "nbformat_minor": 1
}
